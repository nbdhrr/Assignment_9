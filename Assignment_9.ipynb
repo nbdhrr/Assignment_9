{
 "cells": [
  {
   "cell_type": "code",
   "execution_count": null,
   "metadata": {},
   "outputs": [],
   "source": [
    "#Task 1\n",
    "#1. You survey households in your area to find the average rent they are paying. Find the\n",
    "#standard deviation from the following data:"
   ]
  },
  {
   "cell_type": "code",
   "execution_count": 4,
   "metadata": {},
   "outputs": [],
   "source": [
    "import pandas as pd\n",
    "import numpy as np\n",
    "household_data=(1550,1700,900,850,1000,950)"
   ]
  },
  {
   "cell_type": "code",
   "execution_count": 5,
   "metadata": {},
   "outputs": [
    {
     "data": {
      "text/plain": [
       "1158.3333333333333"
      ]
     },
     "execution_count": 5,
     "metadata": {},
     "output_type": "execute_result"
    }
   ],
   "source": [
    "np.mean(household_data)"
   ]
  },
  {
   "cell_type": "code",
   "execution_count": 6,
   "metadata": {},
   "outputs": [
    {
     "data": {
      "text/plain": [
       "335.92740617910624"
      ]
     },
     "execution_count": 6,
     "metadata": {},
     "output_type": "execute_result"
    }
   ],
   "source": [
    "np.std(household_data)"
   ]
  },
  {
   "cell_type": "code",
   "execution_count": null,
   "metadata": {},
   "outputs": [],
   "source": [
    "#Task 1.2. Find the variance for the following set of data representing trees in California (heights in\n",
    "#feet):"
   ]
  },
  {
   "cell_type": "code",
   "execution_count": 11,
   "metadata": {},
   "outputs": [],
   "source": [
    "tree_height=[3,21,98,203,17,9]\n",
    "df=pd.DataFrame(tree_height)"
   ]
  },
  {
   "cell_type": "code",
   "execution_count": 12,
   "metadata": {},
   "outputs": [
    {
     "data": {
      "text/plain": [
       "0    6219.9\n",
       "dtype: float64"
      ]
     },
     "execution_count": 12,
     "metadata": {},
     "output_type": "execute_result"
    }
   ],
   "source": [
    "df.var()"
   ]
  },
  {
   "cell_type": "code",
   "execution_count": null,
   "metadata": {},
   "outputs": [],
   "source": [
    "#Task 1.3. In a class on 100 students, 80 students passed in all subjects, 10 failed in one subject, 7 failed\n",
    "#in two subjects and 3 failed in three subjects. Find the probability distribution of the variable for\n",
    "#number of subjects a student from the given class has failed in."
   ]
  },
  {
   "cell_type": "code",
   "execution_count": null,
   "metadata": {},
   "outputs": [],
   "source": [
    "Total Student in class = 100"
   ]
  },
  {
   "cell_type": "code",
   "execution_count": null,
   "metadata": {},
   "outputs": [],
   "source": [
    "Probability of failing in 0 subject P(X0) = 80/100 = .8\n",
    "Probability of failing in 1 subject P(X1) = 10/100 = .1\n",
    "Probability of failing in 2 subject P(X2) = 7/100  = .07\n",
    "Probability of failing in 3 subject P(X3) = 3/100  = .03"
   ]
  },
  {
   "cell_type": "code",
   "execution_count": 26,
   "metadata": {},
   "outputs": [],
   "source": [
    "prob_dist = [.8, .1, .07, .03]"
   ]
  },
  {
   "cell_type": "code",
   "execution_count": 27,
   "metadata": {},
   "outputs": [],
   "source": [
    "df=pd.DataFrame(data={'Failed subjectwise probability(X)':['X0', 'X1', 'X2', 'X3'],'P(X)': prob_dist})"
   ]
  },
  {
   "cell_type": "code",
   "execution_count": 28,
   "metadata": {},
   "outputs": [
    {
     "data": {
      "text/html": [
       "<div>\n",
       "<style scoped>\n",
       "    .dataframe tbody tr th:only-of-type {\n",
       "        vertical-align: middle;\n",
       "    }\n",
       "\n",
       "    .dataframe tbody tr th {\n",
       "        vertical-align: top;\n",
       "    }\n",
       "\n",
       "    .dataframe thead th {\n",
       "        text-align: right;\n",
       "    }\n",
       "</style>\n",
       "<table border=\"1\" class=\"dataframe\">\n",
       "  <thead>\n",
       "    <tr style=\"text-align: right;\">\n",
       "      <th></th>\n",
       "      <th>Failed subjectwise probability(X)</th>\n",
       "      <th>P(X)</th>\n",
       "    </tr>\n",
       "  </thead>\n",
       "  <tbody>\n",
       "    <tr>\n",
       "      <th>0</th>\n",
       "      <td>X0</td>\n",
       "      <td>0.80</td>\n",
       "    </tr>\n",
       "    <tr>\n",
       "      <th>1</th>\n",
       "      <td>X1</td>\n",
       "      <td>0.10</td>\n",
       "    </tr>\n",
       "    <tr>\n",
       "      <th>2</th>\n",
       "      <td>X2</td>\n",
       "      <td>0.07</td>\n",
       "    </tr>\n",
       "    <tr>\n",
       "      <th>3</th>\n",
       "      <td>X3</td>\n",
       "      <td>0.03</td>\n",
       "    </tr>\n",
       "  </tbody>\n",
       "</table>\n",
       "</div>"
      ],
      "text/plain": [
       "  Failed subjectwise probability(X)  P(X)\n",
       "0                                X0  0.80\n",
       "1                                X1  0.10\n",
       "2                                X2  0.07\n",
       "3                                X3  0.03"
      ]
     },
     "execution_count": 28,
     "metadata": {},
     "output_type": "execute_result"
    }
   ],
   "source": [
    "df"
   ]
  },
  {
   "cell_type": "code",
   "execution_count": null,
   "metadata": {},
   "outputs": [],
   "source": [
    "#Task 2.1\n",
    "#1. A test is conducted which is consisting of 20 MCQs (multiple choices questions) with every\n",
    "#MCQ having its four options out of which only one is correct. Determine the probability that a\n",
    "#erson undertaking that test has answered exactly 5 questions wrong."
   ]
  },
  {
   "cell_type": "code",
   "execution_count": null,
   "metadata": {},
   "outputs": [],
   "source": [
    "n = 20          # No. of trials\n",
    "\n",
    "n-k = 5         # Count of getting a wrong answer \n",
    "\n",
    "k = 15          # Count of success (derived by n-k = 5)\n",
    "\n",
    "s = 1/4         # Probability of success"
   ]
  },
  {
   "cell_type": "code",
   "execution_count": 33,
   "metadata": {},
   "outputs": [
    {
     "data": {
      "text/plain": [
       "3.4264958230778435e-06"
      ]
     },
     "execution_count": 33,
     "metadata": {},
     "output_type": "execute_result"
    }
   ],
   "source": [
    "import numpy as np\n",
    "from scipy.stats import binom\n",
    "\n",
    "prob_MCQ = binom.pmf(15,20,1/4)   \n",
    "prob_MCQ"
   ]
  },
  {
   "cell_type": "code",
   "execution_count": 34,
   "metadata": {},
   "outputs": [
    {
     "name": "stdout",
     "output_type": "stream",
     "text": [
      "\n",
      " The probability that a person undertaking test has answered exactly 5 questions wrong is = 3.4264958230778435e-06\n"
     ]
    }
   ],
   "source": [
    "print(\"\\n The probability that a person undertaking test has answered exactly 5 questions wrong is = \" +str(prob_MCQ))"
   ]
  },
  {
   "cell_type": "code",
   "execution_count": null,
   "metadata": {},
   "outputs": [],
   "source": [
    "Task2.2. A die marked A to E is rolled 50 times. Find the probability of getting a “D” exactly 5 times."
   ]
  },
  {
   "cell_type": "code",
   "execution_count": null,
   "metadata": {},
   "outputs": [],
   "source": [
    "n = 50 # No. of trials \n",
    "k = 5 # Count of success \n",
    "n-k = 45 # Count of getting dice apart from D \n",
    "s = 1/5 # Probability of success "
   ]
  },
  {
   "cell_type": "code",
   "execution_count": 35,
   "metadata": {},
   "outputs": [
    {
     "data": {
      "text/plain": [
       "0.029531204310523224"
      ]
     },
     "execution_count": 35,
     "metadata": {},
     "output_type": "execute_result"
    }
   ],
   "source": [
    "import numpy as np\n",
    "from scipy.stats import binom\n",
    "\n",
    "prob_die = binom.pmf(5,50,1/5)   \n",
    "prob_die"
   ]
  },
  {
   "cell_type": "code",
   "execution_count": 36,
   "metadata": {},
   "outputs": [
    {
     "name": "stdout",
     "output_type": "stream",
     "text": [
      "\n",
      " Probability of getting a “D” exactly 5 times = 0.029531204310523224\n"
     ]
    }
   ],
   "source": [
    "print(\"\\n Probability of getting a “D” exactly 5 times = \" +str(prob_die))"
   ]
  },
  {
   "cell_type": "code",
   "execution_count": null,
   "metadata": {},
   "outputs": [],
   "source": [
    "Task2.3. Two balls are drawn at random in succession without replacement from an urn containing 4\n",
    "red balls and 6 black balls.\n",
    "\n",
    "Find the probabilities of all the possible outcomes."
   ]
  },
  {
   "cell_type": "code",
   "execution_count": null,
   "metadata": {},
   "outputs": [],
   "source": [
    "Red balls (R)=4 Black balls (B)=6 Total balls (T)=10\n",
    "Total ways to draw 2 balls=10*9=90 ways\n",
    "\n",
    "Ways to draw both red balls (RR)=4*3=12 ways\n",
    "Ways to draw 1 red and 1 black ball (RB)=4*6=24 ways\n",
    "Ways to draw 1 black and 1 red ball (BR)=6*4=24 ways\n",
    "Ways to draw both black balls (BB)= 6*5=30 ways\n",
    "\n",
    "the probability of all possible outcomes are:\n",
    "\n",
    "Probability of drawing both red balls (RR) = (4/10)*(3/9) = 12/90 = .1333 = 13.33 %\n",
    "Probab of drawing 1 red & 1 black ball (RB) = (4/10)*(6/9)= 24/90 = .2666 = 26.67 %\n",
    "Probab of drawing 1 black & 1 red ball (RB) = (6/10)*(4/9)= 24/90 = .2666 = 26.67%\n",
    "Probability of drawing both black balls (BB) = (6/10)*(5/9) = 30/90 =.3333 = 33.33 %"
   ]
  }
 ],
 "metadata": {
  "kernelspec": {
   "display_name": "Python 3",
   "language": "python",
   "name": "python3"
  },
  "language_info": {
   "codemirror_mode": {
    "name": "ipython",
    "version": 3
   },
   "file_extension": ".py",
   "mimetype": "text/x-python",
   "name": "python",
   "nbconvert_exporter": "python",
   "pygments_lexer": "ipython3",
   "version": "3.6.5"
  }
 },
 "nbformat": 4,
 "nbformat_minor": 2
}
